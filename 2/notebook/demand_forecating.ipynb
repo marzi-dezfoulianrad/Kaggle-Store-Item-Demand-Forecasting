{
 "cells": [
  {
   "cell_type": "markdown",
   "id": "ee1dbe14",
   "metadata": {},
   "source": [
    "Folllowing and understaning someone's solution!"
   ]
  },
  {
   "cell_type": "code",
   "execution_count": 1,
   "id": "04e8c0b9",
   "metadata": {},
   "outputs": [],
   "source": [
    "import numpy as np # Linear Algebra\n",
    "import pandas as pd # Data Processing\n",
    "\n",
    "import os\n",
    "for dirname, _, filenames in os.walk('input'):\n",
    "    for filename in filenames:\n",
    "        print(os.path.join(dirname, filename))"
   ]
  },
  {
   "cell_type": "code",
   "execution_count": 2,
   "id": "4b9ab4a9",
   "metadata": {},
   "outputs": [],
   "source": [
    "train = pd.read_csv('../data/input/demand-forecasting-kernels-only/train.csv')\n",
    "test = pd.read_csv('../data/input/demand-forecasting-kernels-only/test.csv')\n",
    "sample = pd.read_csv('../data/input/demand-forecasting-kernels-only/sample_submission.csv')"
   ]
  },
  {
   "cell_type": "code",
   "execution_count": 3,
   "id": "7d3caf3d",
   "metadata": {},
   "outputs": [
    {
     "data": {
      "text/html": [
       "<div>\n",
       "<style scoped>\n",
       "    .dataframe tbody tr th:only-of-type {\n",
       "        vertical-align: middle;\n",
       "    }\n",
       "\n",
       "    .dataframe tbody tr th {\n",
       "        vertical-align: top;\n",
       "    }\n",
       "\n",
       "    .dataframe thead th {\n",
       "        text-align: right;\n",
       "    }\n",
       "</style>\n",
       "<table border=\"1\" class=\"dataframe\">\n",
       "  <thead>\n",
       "    <tr style=\"text-align: right;\">\n",
       "      <th></th>\n",
       "      <th>date</th>\n",
       "      <th>store</th>\n",
       "      <th>item</th>\n",
       "      <th>sales</th>\n",
       "    </tr>\n",
       "  </thead>\n",
       "  <tbody>\n",
       "    <tr>\n",
       "      <th>0</th>\n",
       "      <td>2013-01-01</td>\n",
       "      <td>1</td>\n",
       "      <td>1</td>\n",
       "      <td>13</td>\n",
       "    </tr>\n",
       "    <tr>\n",
       "      <th>1</th>\n",
       "      <td>2013-01-02</td>\n",
       "      <td>1</td>\n",
       "      <td>1</td>\n",
       "      <td>11</td>\n",
       "    </tr>\n",
       "    <tr>\n",
       "      <th>2</th>\n",
       "      <td>2013-01-03</td>\n",
       "      <td>1</td>\n",
       "      <td>1</td>\n",
       "      <td>14</td>\n",
       "    </tr>\n",
       "    <tr>\n",
       "      <th>3</th>\n",
       "      <td>2013-01-04</td>\n",
       "      <td>1</td>\n",
       "      <td>1</td>\n",
       "      <td>13</td>\n",
       "    </tr>\n",
       "    <tr>\n",
       "      <th>4</th>\n",
       "      <td>2013-01-05</td>\n",
       "      <td>1</td>\n",
       "      <td>1</td>\n",
       "      <td>10</td>\n",
       "    </tr>\n",
       "  </tbody>\n",
       "</table>\n",
       "</div>"
      ],
      "text/plain": [
       "         date  store  item  sales\n",
       "0  2013-01-01      1     1     13\n",
       "1  2013-01-02      1     1     11\n",
       "2  2013-01-03      1     1     14\n",
       "3  2013-01-04      1     1     13\n",
       "4  2013-01-05      1     1     10"
      ]
     },
     "execution_count": 3,
     "metadata": {},
     "output_type": "execute_result"
    }
   ],
   "source": [
    "train.head()"
   ]
  },
  {
   "cell_type": "code",
   "execution_count": 4,
   "id": "2f2d181e",
   "metadata": {},
   "outputs": [
    {
     "data": {
      "text/plain": [
       "np.int64(0)"
      ]
     },
     "execution_count": 4,
     "metadata": {},
     "output_type": "execute_result"
    }
   ],
   "source": [
    "train.isnull().sum().sum()\n",
    "# two .sum() calsulaes the total count of NaNs across all columns in the DataFrame"
   ]
  },
  {
   "cell_type": "code",
   "execution_count": 5,
   "id": "b2475274",
   "metadata": {},
   "outputs": [],
   "source": [
    "test.drop(\"id\", axis=1, inplace=True)"
   ]
  },
  {
   "cell_type": "code",
   "execution_count": 6,
   "id": "a3881384",
   "metadata": {},
   "outputs": [
    {
     "data": {
      "text/plain": [
       "((913000, 4), (45000, 3))"
      ]
     },
     "execution_count": 6,
     "metadata": {},
     "output_type": "execute_result"
    }
   ],
   "source": [
    "train.shape, test.shape"
   ]
  },
  {
   "cell_type": "code",
   "execution_count": 7,
   "id": "d5ecde55",
   "metadata": {},
   "outputs": [
    {
     "name": "stdout",
     "output_type": "stream",
     "text": [
      "<class 'pandas.core.frame.DataFrame'>\n",
      "RangeIndex: 913000 entries, 0 to 912999\n",
      "Data columns (total 4 columns):\n",
      " #   Column  Non-Null Count   Dtype \n",
      "---  ------  --------------   ----- \n",
      " 0   date    913000 non-null  object\n",
      " 1   store   913000 non-null  int64 \n",
      " 2   item    913000 non-null  int64 \n",
      " 3   sales   913000 non-null  int64 \n",
      "dtypes: int64(3), object(1)\n",
      "memory usage: 27.9+ MB\n"
     ]
    }
   ],
   "source": [
    "train.info()"
   ]
  },
  {
   "cell_type": "code",
   "execution_count": 9,
   "id": "75ec60a2",
   "metadata": {},
   "outputs": [],
   "source": [
    "train[\"date\"] = pd.to_datetime(train[\"date\"])\n",
    "train[\"Day\"] = train[\"date\"].dt.day\n",
    "train[\"Month\"] = train[\"date\"].dt.month\n",
    "train[\"Years\"] = train[\"date\"].dt.year\n",
    "train.drop(\"date\", axis=1, inplace=True)"
   ]
  },
  {
   "cell_type": "code",
   "execution_count": 10,
   "id": "6edb9ae2",
   "metadata": {},
   "outputs": [],
   "source": [
    "test[\"date\"] = pd.to_datetime(test[\"date\"])\n",
    "test[\"Day\"] = test[\"date\"].dt.day\n",
    "test[\"Month\"] = test[\"date\"].dt.month\n",
    "test[\"Years\"] = test[\"date\"].dt.year\n",
    "test.drop(\"date\", axis=1, inplace=True)"
   ]
  },
  {
   "cell_type": "code",
   "execution_count": 11,
   "id": "9b795b18",
   "metadata": {},
   "outputs": [
    {
     "data": {
      "text/html": [
       "<div>\n",
       "<style scoped>\n",
       "    .dataframe tbody tr th:only-of-type {\n",
       "        vertical-align: middle;\n",
       "    }\n",
       "\n",
       "    .dataframe tbody tr th {\n",
       "        vertical-align: top;\n",
       "    }\n",
       "\n",
       "    .dataframe thead th {\n",
       "        text-align: right;\n",
       "    }\n",
       "</style>\n",
       "<table border=\"1\" class=\"dataframe\">\n",
       "  <thead>\n",
       "    <tr style=\"text-align: right;\">\n",
       "      <th></th>\n",
       "      <th>store</th>\n",
       "      <th>item</th>\n",
       "      <th>sales</th>\n",
       "      <th>Day</th>\n",
       "      <th>Month</th>\n",
       "      <th>Years</th>\n",
       "    </tr>\n",
       "  </thead>\n",
       "  <tbody>\n",
       "    <tr>\n",
       "      <th>0</th>\n",
       "      <td>1</td>\n",
       "      <td>1</td>\n",
       "      <td>13</td>\n",
       "      <td>1</td>\n",
       "      <td>1</td>\n",
       "      <td>2013</td>\n",
       "    </tr>\n",
       "    <tr>\n",
       "      <th>1</th>\n",
       "      <td>1</td>\n",
       "      <td>1</td>\n",
       "      <td>11</td>\n",
       "      <td>2</td>\n",
       "      <td>1</td>\n",
       "      <td>2013</td>\n",
       "    </tr>\n",
       "    <tr>\n",
       "      <th>2</th>\n",
       "      <td>1</td>\n",
       "      <td>1</td>\n",
       "      <td>14</td>\n",
       "      <td>3</td>\n",
       "      <td>1</td>\n",
       "      <td>2013</td>\n",
       "    </tr>\n",
       "    <tr>\n",
       "      <th>3</th>\n",
       "      <td>1</td>\n",
       "      <td>1</td>\n",
       "      <td>13</td>\n",
       "      <td>4</td>\n",
       "      <td>1</td>\n",
       "      <td>2013</td>\n",
       "    </tr>\n",
       "    <tr>\n",
       "      <th>4</th>\n",
       "      <td>1</td>\n",
       "      <td>1</td>\n",
       "      <td>10</td>\n",
       "      <td>5</td>\n",
       "      <td>1</td>\n",
       "      <td>2013</td>\n",
       "    </tr>\n",
       "  </tbody>\n",
       "</table>\n",
       "</div>"
      ],
      "text/plain": [
       "   store  item  sales  Day  Month  Years\n",
       "0      1     1     13    1      1   2013\n",
       "1      1     1     11    2      1   2013\n",
       "2      1     1     14    3      1   2013\n",
       "3      1     1     13    4      1   2013\n",
       "4      1     1     10    5      1   2013"
      ]
     },
     "execution_count": 11,
     "metadata": {},
     "output_type": "execute_result"
    }
   ],
   "source": [
    "train.head()"
   ]
  },
  {
   "cell_type": "code",
   "execution_count": 12,
   "id": "fcdb002f",
   "metadata": {},
   "outputs": [
    {
     "data": {
      "text/plain": [
       "array([ 1,  2,  3,  4,  5,  6,  7,  8,  9, 10])"
      ]
     },
     "execution_count": 12,
     "metadata": {},
     "output_type": "execute_result"
    }
   ],
   "source": [
    "train[\"store\"].unique()"
   ]
  },
  {
   "cell_type": "code",
   "execution_count": 13,
   "id": "abcd68f7",
   "metadata": {},
   "outputs": [
    {
     "data": {
      "text/plain": [
       "array([ 13,  11,  14,  10,  12,   9,   7,   5,  16,  18,  15,   8,   6,\n",
       "        21,  20,  17,  22,  19,  24,  23,  26,  25,  27,  38,  34,  29,\n",
       "        31,  30,   4,  36,  28,  33,  32,  37,  35,  43,  40,  41,  39,\n",
       "        42,  50,  45,  44,  47,  53,  49,  46,  48,  51,  58,  54,  57,\n",
       "        55,  52,   3,   2,   1,  59,  56,  60,  63,  69,  64,  67,  65,\n",
       "        71,  61,  73,  62,  82,  78,  68,  74,  70,  87,  66,  77,  88,\n",
       "        76,  75, 102,  72,  92,  86,  79,  85,  81,  90,  84,  80, 103,\n",
       "        97,  96,  95,  89, 104,  94, 100,  91,  83, 106, 101,  98, 115,\n",
       "        93, 111, 119,  99, 108, 110, 120, 105, 126, 109, 114, 113, 112,\n",
       "       121, 107, 117, 118, 139, 124, 131, 123, 138, 134, 127, 136, 116,\n",
       "       125, 122, 128, 150, 129, 135, 137, 132, 133, 145, 130, 144,   0,\n",
       "       148, 141, 140, 152, 147, 169, 156, 159, 153, 142, 157, 155, 163,\n",
       "       143, 154, 165, 146, 160, 158, 151, 164, 171, 161, 177, 162, 175,\n",
       "       181, 168, 167, 149, 174, 170, 176, 178, 166, 173, 187, 182, 189,\n",
       "       179, 172, 204, 180, 190, 191, 210, 184, 183, 186, 185, 199, 196,\n",
       "       194, 197, 207, 209, 195, 198, 231, 205, 192, 200, 193, 188, 208,\n",
       "       201, 214, 206, 203, 202])"
      ]
     },
     "execution_count": 13,
     "metadata": {},
     "output_type": "execute_result"
    }
   ],
   "source": [
    "train[\"sales\"].unique()"
   ]
  },
  {
   "cell_type": "code",
   "execution_count": 14,
   "id": "bf3543ae",
   "metadata": {},
   "outputs": [],
   "source": [
    "X_train = train.drop(['sales'], axis=1)\n",
    "y_train = train['sales']"
   ]
  },
  {
   "cell_type": "code",
   "execution_count": 15,
   "id": "8b09f981",
   "metadata": {},
   "outputs": [],
   "source": [
    "X_test = train.drop(['sales'], axis=1)\n",
    "y_test = train['sales']"
   ]
  },
  {
   "cell_type": "code",
   "execution_count": 16,
   "id": "fa171b7f",
   "metadata": {},
   "outputs": [],
   "source": [
    "from sklearn.metrics import r2_score, mean_squared_error\n",
    "from sklearn.linear_model import LinearRegression\n",
    "from sklearn.tree import ExtraTreeRegressor\n",
    "from sklearn.ensemble import GradientBoostingRegressor\n",
    "from sklearn.linear_model import LinearRegression, ElasticNet, Ridge, Lasso\n",
    "from sklearn.metrics import r2_score, mean_squared_error,mean_absolute_error\n",
    "from sklearn.model_selection import train_test_split\n",
    "from xgboost import XGBRegressor\n",
    "from sklearn.ensemble import RandomForestRegressor"
   ]
  },
  {
   "cell_type": "code",
   "execution_count": 17,
   "id": "8df64610",
   "metadata": {},
   "outputs": [],
   "source": [
    "def regression_algo(x,y):\n",
    "    \n",
    "    L = LinearRegression()\n",
    "# finds the best straight line to fit the data, predicting a continuous output based on input features.\n",
    "    E = ElasticNet()\n",
    "# ombines Lasso and Ridge regression, useful for variable selection and handling correlated features.\n",
    "    R = Ridge()\n",
    "# adds a penalty to the size of coefficients, helping prevent overfitting, especially with many features.\n",
    "    Lass = Lasso()\n",
    "#  adds a penalty, but it can shrink some coefficients exactly to zero, effectively performing feature selection.\n",
    "    ETR=ExtraTreeRegressor()\n",
    "#  builds many decision trees, similar to Random Forest, but with an added layer of randomness in how it splits the data, often leading to faster training and good performance.\n",
    "    GBR=GradientBoostingRegressor()\n",
    "# builds a strong predictive model by sequentially combining many weak models (like small decision trees), with each new model correcting the errors of the previous ones.\n",
    "    XGBC= XGBRegressor()\n",
    "# is an optimized and highly efficient version of Gradient Boosting, known for its speed and top-tier performance in many machine learning competitions.\n",
    "    RFR=RandomForestRegressor()\n",
    "#  creates many decision trees during training and outputs the average prediction of all individual trees, reducing overfitting and improving accuracy.\n",
    "          \n",
    "    x_train, x_test, y_train, y_test=train_test_split(x,y,test_size=0.2,random_state=13)\n",
    "    \n",
    "    algos = [L,E,R,Lass,ETR,GBR,XGBC,RFR]\n",
    "    algo_names = ['Linear','ElasticNet','Ridge','Lasso','Extra Tree','Gradient Boosting','XGradientBooting','Random Forest']\n",
    "    r_squared = []\n",
    "    rmse = []\n",
    "    mae = []\n",
    "        \n",
    "    result = pd.DataFrame(columns = ['R_Squared','RMSE','MAE'],index = algo_names)\n",
    "       \n",
    "    for algo in algos:\n",
    "        algo.fit(x_train,y_train)\n",
    "             \n",
    "        r_squared.append(r2_score(y_test,algo.predict(x_test)))\n",
    "        rmse.append(mean_squared_error(y_test, algo.predict(x_test))**.5)\n",
    "        mae.append(mean_absolute_error(y_test, algo.predict(x_test)))\n",
    "\n",
    "    result.R_Squared = r_squared\n",
    "    result.RMSE = rmse\n",
    "    result.MAE= mae\n",
    "    \n",
    "    result = result.sort_values('R_Squared', ascending=False).round(2)\n",
    "    return result.applymap(lambda x: f\"{x:.2f}\")"
   ]
  },
  {
   "cell_type": "code",
   "execution_count": 19,
   "id": "c368854b",
   "metadata": {},
   "outputs": [
    {
     "name": "stderr",
     "output_type": "stream",
     "text": [
      "C:\\Users\\Parsan Afzar\\AppData\\Local\\Temp\\ipykernel_896\\1043901589.py:42: FutureWarning: DataFrame.applymap has been deprecated. Use DataFrame.map instead.\n",
      "  return result.applymap(lambda x: f\"{x:.2f}\")\n"
     ]
    },
    {
     "data": {
      "text/html": [
       "<div>\n",
       "<style scoped>\n",
       "    .dataframe tbody tr th:only-of-type {\n",
       "        vertical-align: middle;\n",
       "    }\n",
       "\n",
       "    .dataframe tbody tr th {\n",
       "        vertical-align: top;\n",
       "    }\n",
       "\n",
       "    .dataframe thead th {\n",
       "        text-align: right;\n",
       "    }\n",
       "</style>\n",
       "<table border=\"1\" class=\"dataframe\">\n",
       "  <thead>\n",
       "    <tr style=\"text-align: right;\">\n",
       "      <th></th>\n",
       "      <th>R_Squared</th>\n",
       "      <th>RMSE</th>\n",
       "      <th>MAE</th>\n",
       "    </tr>\n",
       "  </thead>\n",
       "  <tbody>\n",
       "    <tr>\n",
       "      <th>XGradientBooting</th>\n",
       "      <td>0.88</td>\n",
       "      <td>10.00</td>\n",
       "      <td>7.52</td>\n",
       "    </tr>\n",
       "    <tr>\n",
       "      <th>Random Forest</th>\n",
       "      <td>0.85</td>\n",
       "      <td>11.16</td>\n",
       "      <td>8.24</td>\n",
       "    </tr>\n",
       "    <tr>\n",
       "      <th>Extra Tree</th>\n",
       "      <td>0.73</td>\n",
       "      <td>14.90</td>\n",
       "      <td>10.83</td>\n",
       "    </tr>\n",
       "    <tr>\n",
       "      <th>Gradient Boosting</th>\n",
       "      <td>0.68</td>\n",
       "      <td>16.26</td>\n",
       "      <td>12.27</td>\n",
       "    </tr>\n",
       "    <tr>\n",
       "      <th>Ridge</th>\n",
       "      <td>0.04</td>\n",
       "      <td>28.16</td>\n",
       "      <td>22.62</td>\n",
       "    </tr>\n",
       "    <tr>\n",
       "      <th>Linear</th>\n",
       "      <td>0.04</td>\n",
       "      <td>28.16</td>\n",
       "      <td>22.62</td>\n",
       "    </tr>\n",
       "    <tr>\n",
       "      <th>Lasso</th>\n",
       "      <td>0.04</td>\n",
       "      <td>28.17</td>\n",
       "      <td>22.63</td>\n",
       "    </tr>\n",
       "    <tr>\n",
       "      <th>ElasticNet</th>\n",
       "      <td>0.04</td>\n",
       "      <td>28.19</td>\n",
       "      <td>22.64</td>\n",
       "    </tr>\n",
       "  </tbody>\n",
       "</table>\n",
       "</div>"
      ],
      "text/plain": [
       "                  R_Squared   RMSE    MAE\n",
       "XGradientBooting       0.88  10.00   7.52\n",
       "Random Forest          0.85  11.16   8.24\n",
       "Extra Tree             0.73  14.90  10.83\n",
       "Gradient Boosting      0.68  16.26  12.27\n",
       "Ridge                  0.04  28.16  22.62\n",
       "Linear                 0.04  28.16  22.62\n",
       "Lasso                  0.04  28.17  22.63\n",
       "ElasticNet             0.04  28.19  22.64"
      ]
     },
     "execution_count": 19,
     "metadata": {},
     "output_type": "execute_result"
    }
   ],
   "source": [
    "regression_algo(X_train,y_train) "
   ]
  },
  {
   "cell_type": "code",
   "execution_count": 20,
   "id": "4e8037a6",
   "metadata": {},
   "outputs": [],
   "source": [
    "GBR = GradientBoostingRegressor()\n",
    "GBRmodel = GBR.fit(X_train, y_train)"
   ]
  },
  {
   "cell_type": "code",
   "execution_count": 22,
   "id": "d3a07edb",
   "metadata": {},
   "outputs": [
    {
     "data": {
      "text/plain": [
       "array([13.70504854, 13.70504854, 13.70504854, ..., 66.39925593,\n",
       "       66.39925593, 66.39925593], shape=(45000,))"
      ]
     },
     "execution_count": 22,
     "metadata": {},
     "output_type": "execute_result"
    }
   ],
   "source": [
    "pred = GBR.predict(test)\n",
    "pred"
   ]
  },
  {
   "cell_type": "code",
   "execution_count": 23,
   "id": "f6e4076d",
   "metadata": {},
   "outputs": [
    {
     "data": {
      "text/html": [
       "<div>\n",
       "<style scoped>\n",
       "    .dataframe tbody tr th:only-of-type {\n",
       "        vertical-align: middle;\n",
       "    }\n",
       "\n",
       "    .dataframe tbody tr th {\n",
       "        vertical-align: top;\n",
       "    }\n",
       "\n",
       "    .dataframe thead th {\n",
       "        text-align: right;\n",
       "    }\n",
       "</style>\n",
       "<table border=\"1\" class=\"dataframe\">\n",
       "  <thead>\n",
       "    <tr style=\"text-align: right;\">\n",
       "      <th></th>\n",
       "      <th>id</th>\n",
       "      <th>sales</th>\n",
       "    </tr>\n",
       "  </thead>\n",
       "  <tbody>\n",
       "    <tr>\n",
       "      <th>0</th>\n",
       "      <td>0</td>\n",
       "      <td>52</td>\n",
       "    </tr>\n",
       "    <tr>\n",
       "      <th>1</th>\n",
       "      <td>1</td>\n",
       "      <td>52</td>\n",
       "    </tr>\n",
       "    <tr>\n",
       "      <th>2</th>\n",
       "      <td>2</td>\n",
       "      <td>52</td>\n",
       "    </tr>\n",
       "    <tr>\n",
       "      <th>3</th>\n",
       "      <td>3</td>\n",
       "      <td>52</td>\n",
       "    </tr>\n",
       "    <tr>\n",
       "      <th>4</th>\n",
       "      <td>4</td>\n",
       "      <td>52</td>\n",
       "    </tr>\n",
       "  </tbody>\n",
       "</table>\n",
       "</div>"
      ],
      "text/plain": [
       "   id  sales\n",
       "0   0     52\n",
       "1   1     52\n",
       "2   2     52\n",
       "3   3     52\n",
       "4   4     52"
      ]
     },
     "execution_count": 23,
     "metadata": {},
     "output_type": "execute_result"
    }
   ],
   "source": [
    "sample.head()"
   ]
  },
  {
   "cell_type": "code",
   "execution_count": 24,
   "id": "1ff90175",
   "metadata": {},
   "outputs": [
    {
     "data": {
      "text/html": [
       "<div>\n",
       "<style scoped>\n",
       "    .dataframe tbody tr th:only-of-type {\n",
       "        vertical-align: middle;\n",
       "    }\n",
       "\n",
       "    .dataframe tbody tr th {\n",
       "        vertical-align: top;\n",
       "    }\n",
       "\n",
       "    .dataframe thead th {\n",
       "        text-align: right;\n",
       "    }\n",
       "</style>\n",
       "<table border=\"1\" class=\"dataframe\">\n",
       "  <thead>\n",
       "    <tr style=\"text-align: right;\">\n",
       "      <th></th>\n",
       "      <th>id</th>\n",
       "      <th>sales</th>\n",
       "    </tr>\n",
       "  </thead>\n",
       "  <tbody>\n",
       "    <tr>\n",
       "      <th>0</th>\n",
       "      <td>0</td>\n",
       "      <td>13.705049</td>\n",
       "    </tr>\n",
       "    <tr>\n",
       "      <th>1</th>\n",
       "      <td>1</td>\n",
       "      <td>13.705049</td>\n",
       "    </tr>\n",
       "    <tr>\n",
       "      <th>2</th>\n",
       "      <td>2</td>\n",
       "      <td>13.705049</td>\n",
       "    </tr>\n",
       "    <tr>\n",
       "      <th>3</th>\n",
       "      <td>3</td>\n",
       "      <td>13.705049</td>\n",
       "    </tr>\n",
       "    <tr>\n",
       "      <th>4</th>\n",
       "      <td>4</td>\n",
       "      <td>13.705049</td>\n",
       "    </tr>\n",
       "    <tr>\n",
       "      <th>...</th>\n",
       "      <td>...</td>\n",
       "      <td>...</td>\n",
       "    </tr>\n",
       "    <tr>\n",
       "      <th>44995</th>\n",
       "      <td>44995</td>\n",
       "      <td>66.399256</td>\n",
       "    </tr>\n",
       "    <tr>\n",
       "      <th>44996</th>\n",
       "      <td>44996</td>\n",
       "      <td>66.399256</td>\n",
       "    </tr>\n",
       "    <tr>\n",
       "      <th>44997</th>\n",
       "      <td>44997</td>\n",
       "      <td>66.399256</td>\n",
       "    </tr>\n",
       "    <tr>\n",
       "      <th>44998</th>\n",
       "      <td>44998</td>\n",
       "      <td>66.399256</td>\n",
       "    </tr>\n",
       "    <tr>\n",
       "      <th>44999</th>\n",
       "      <td>44999</td>\n",
       "      <td>66.399256</td>\n",
       "    </tr>\n",
       "  </tbody>\n",
       "</table>\n",
       "<p>45000 rows × 2 columns</p>\n",
       "</div>"
      ],
      "text/plain": [
       "          id      sales\n",
       "0          0  13.705049\n",
       "1          1  13.705049\n",
       "2          2  13.705049\n",
       "3          3  13.705049\n",
       "4          4  13.705049\n",
       "...      ...        ...\n",
       "44995  44995  66.399256\n",
       "44996  44996  66.399256\n",
       "44997  44997  66.399256\n",
       "44998  44998  66.399256\n",
       "44999  44999  66.399256\n",
       "\n",
       "[45000 rows x 2 columns]"
      ]
     },
     "execution_count": 24,
     "metadata": {},
     "output_type": "execute_result"
    }
   ],
   "source": [
    "submission_ids= sample['id']\n",
    "submission = pd.DataFrame({'id': submission_ids, 'sales': pred})\n",
    "submission.to_csv('submission.csv', index=False)\n",
    "submission"
   ]
  },
  {
   "cell_type": "code",
   "execution_count": null,
   "id": "748268a6",
   "metadata": {},
   "outputs": [],
   "source": []
  }
 ],
 "metadata": {
  "kernelspec": {
   "display_name": "Python 3",
   "language": "python",
   "name": "python3"
  },
  "language_info": {
   "codemirror_mode": {
    "name": "ipython",
    "version": 3
   },
   "file_extension": ".py",
   "mimetype": "text/x-python",
   "name": "python",
   "nbconvert_exporter": "python",
   "pygments_lexer": "ipython3",
   "version": "3.13.5"
  }
 },
 "nbformat": 4,
 "nbformat_minor": 5
}
